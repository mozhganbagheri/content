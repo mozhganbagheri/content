{
  "nbformat": 4,
  "nbformat_minor": 0,
  "metadata": {
    "colab": {
      "provenance": [],
      "authorship_tag": "ABX9TyPy4WjqF9qzIJo8t0joTybf",
      "include_colab_link": true
    },
    "kernelspec": {
      "name": "python3",
      "display_name": "Python 3"
    },
    "language_info": {
      "name": "python"
    }
  },
  "cells": [
    {
      "cell_type": "markdown",
      "metadata": {
        "id": "view-in-github",
        "colab_type": "text"
      },
      "source": [
        "<a href=\"https://colab.research.google.com/github/mozhganbagheri/content/blob/main/Mozhgan_Bagheri.ipynb\" target=\"_parent\"><img src=\"https://colab.research.google.com/assets/colab-badge.svg\" alt=\"Open In Colab\"/></a>"
      ]
    },
    {
      "cell_type": "code",
      "source": [
        "tosif = input('tosif: (m1=nesbiye kheili ziyad, m2=nesbiye ziyad, m3=nesbiye motevaset, m4=nesbiye kam)')\n",
        "if tosif==\"nesbiye kheili ziyad\":\n",
        "    shetab=0.35\n",
        "    print(\"a: \",shetab, \"<==> m1=nesbiye kheili ziyad\")\n",
        "elif tosif==\"nesbiye ziyad\":\n",
        "    shetab=0.30\n",
        "    print(\"a: \",shetab, \"<==> m2=nesbiye ziyad\")\n",
        "elif tosif==\"nesbiye motevaset\":\n",
        "    shetab=0.25\n",
        "    print(\"a: \",shetab, \"<==> m3=nesbiye motevaset\")\n",
        "elif tosif==\"nesbiye kam\":\n",
        "    shetab=0.20\n",
        "    print(\"a: \",shetab, \"<==> m4=nesbiye kam\")\n",
        "else:\n",
        "    print(\"try again...\")"
      ],
      "metadata": {
        "id": "eooGKMWWcT5X",
        "colab": {
          "base_uri": "https://localhost:8080/"
        },
        "outputId": "384431c7-7bea-47ba-e2af-0ee2b1d9a166"
      },
      "execution_count": null,
      "outputs": [
        {
          "output_type": "stream",
          "name": "stdout",
          "text": [
            "tosif: (m1=nesbiye kheili ziyad, m2=nesbiye ziyad, m3=nesbiye motevaset, m4=nesbiye kam)nesbiye kheili ziyad\n",
            "a:  0.35 <==> m1=nesbiye kheili ziyad\n"
          ]
        }
      ]
    },
    {
      "cell_type": "code",
      "source": [
        "group = int(input(\"Enter a number for group, 1 or 2 or 3 or 4:  \"))\n",
        "if group == 1:\n",
        "    zarib=1.4\n",
        "    print(\"zarib ahamiyat: \",zarib,\"<==> group1\")\n",
        "elif group == 2:\n",
        "    zarib=1.2\n",
        "    print(\"zarib ahamiyat: \",zarib,\"<==> group2\")\n",
        "elif group == 3:\n",
        "    zarib=1.0\n",
        "    print(\"zarib ahamiyat: \",zarib,\"<==> group3\")\n",
        "elif group == 4:\n",
        "    zarib=0.8\n",
        "    print(\"zarib ahamiyat: \",zarib,\"<==> group4\")\n",
        "else:\n",
        "    print(\"try again...\")"
      ],
      "metadata": {
        "id": "FTrWECmHf14o",
        "colab": {
          "base_uri": "https://localhost:8080/"
        },
        "outputId": "0c02dc00-9f20-4197-aca2-cba08b81887b"
      },
      "execution_count": null,
      "outputs": [
        {
          "output_type": "stream",
          "name": "stdout",
          "text": [
            "Enter a number for group, 1 or 2 or 3 or 4:  3\n",
            "zarib ahamiyat:  1.0 <==> group3\n"
          ]
        }
      ]
    },
    {
      "cell_type": "code",
      "source": [
        "T = float(input(\"Entet T (sec): \"))\n",
        "ground_type = int(input(\"Type of ground, 1 or 2 or 3 or 4: \"))\n",
        "khatar = input(\"Type of khatar: (khatar nesbiye kam va motevaset,  khatar nesbiye ziyad va kheili ziyad) \")\n",
        "def takhsis_parametr(khatar, T, S, S0, T0, Ts):\n",
        "    print(\"S:\",S,\"   S0:\",S0)\n",
        "    print(\"T0:\",T0,\"  Ts:\",Ts)\n",
        "    N = 1\n",
        "    if Ts<T<4 :\n",
        "      if khatar == \"khatar nesbiye kam va motevaset\":\n",
        "        N += ((0.4)/(4-Ts))*(T-Ts)\n",
        "      else:\n",
        "        N += ((0.7)/(4-Ts))*(T-Ts)\n",
        "    elif T>4:\n",
        "      if khatar == \"khatar nesbiye kam va motevaset\":\n",
        "        N +=0.4\n",
        "      else:\n",
        "        N +=0.7\n",
        "    return N\n",
        "\n",
        "if ground_type == 1 and khatar==\"khatar nesbiye kam va motevaset\":\n",
        "    T0=0.1\n",
        "    Ts=0.4\n",
        "    S=1.5\n",
        "    S0=1.0\n",
        "    N=takhsis_parametr(khatar, T, S, S0, T0, Ts)\n",
        "elif ground_type == 2 and khatar==\"khatar nesbiye kam va motevaset\":\n",
        "    T0=0.1\n",
        "    Ts=0.5\n",
        "    S=1.5\n",
        "    S0=1.0\n",
        "    N=takhsis_parametr(khatar, T, S, S0, T0, Ts)\n",
        "elif ground_type == 3 and khatar==\"khatar nesbiye kam va motevaset\":\n",
        "    T0=0.15\n",
        "    Ts=0.7\n",
        "    S=1.75\n",
        "    S0=1.1\n",
        "    N=takhsis_parametr(khatar, T, S, S0, T0, Ts)\n",
        "elif ground_type == 4 and khatar==\"khatar nesbiye kam va motevaset\":\n",
        "    T0=0.15\n",
        "    Ts=1.0\n",
        "    S=2.25\n",
        "    S0=1.3\n",
        "    N=takhsis_parametr(khatar, T, S, S0, T0, Ts)\n",
        "elif ground_type == 1 and khatar==\"khatar nesbiye ziyad va kheili ziyad\":\n",
        "    T0=0.1\n",
        "    Ts=0.4\n",
        "    S=1.5\n",
        "    S0=1.0\n",
        "    N=takhsis_parametr(khatar, T, S, S0, T0, Ts)\n",
        "elif ground_type == 2 and khatar==\"khatar nesbiye ziyad va kheili ziyad\":\n",
        "    T0=0.1\n",
        "    Ts=0.5\n",
        "    S=1.5\n",
        "    S0=1.0\n",
        "    N=takhsis_parametr(khatar, T, S, S0, T0, Ts)\n",
        "elif ground_type == 3 and khatar==\"khatar nesbiye ziyad va kheili ziyad\":\n",
        "    T0=0.15\n",
        "    Ts=0.7\n",
        "    S=1.75\n",
        "    S0=1.1\n",
        "    N=takhsis_parametr(khatar, T, S, S0, T0, Ts)\n",
        "elif ground_type == 4 and khatar==\"khatar nesbiye ziyad va kheili ziyad\":\n",
        "    T0=0.15\n",
        "    Ts=1.0\n",
        "    S=1.75\n",
        "    S0=1.1\n",
        "    N=takhsis_parametr(khatar, T, S, S0, T0, Ts)\n",
        "print(\"N: \", N)"
      ],
      "metadata": {
        "id": "JOoHPr7tiU9X",
        "colab": {
          "base_uri": "https://localhost:8080/"
        },
        "outputId": "f4a5a929-bae8-43bb-be1a-2471d4759710"
      },
      "execution_count": 21,
      "outputs": [
        {
          "output_type": "stream",
          "name": "stdout",
          "text": [
            "Entet T (sec): 4\n",
            "Type of ground, 1 or 2 or 3 or 4: 2\n",
            "Type of khatar: (khatar nesbiye kam va motevaset,  khatar nesbiye ziyad va kheili ziyad) khatar nesbiye ziyad va kheili ziyad\n",
            "S: 1.5    S0: 1.0\n",
            "T0: 0.1   Ts: 0.5\n",
            "N:  1\n"
          ]
        }
      ]
    },
    {
      "cell_type": "code",
      "source": [
        "if 0<T<T0:\n",
        "    B1=S0+(S-S0+1)*(T/T0)\n",
        "elif T0<T<Ts:\n",
        "    B1=S+1\n",
        "elif T>Ts:\n",
        "    B1=(S+1)*(Ts/T)\n",
        "B=B1*N\n",
        "print(\"B: \", B)"
      ],
      "metadata": {
        "colab": {
          "base_uri": "https://localhost:8080/"
        },
        "id": "1diWp2LSySxh",
        "outputId": "c3e173f0-f286-4001-d629-f26072563ff1"
      },
      "execution_count": 22,
      "outputs": [
        {
          "output_type": "stream",
          "name": "stdout",
          "text": [
            "B:  0.3125\n"
          ]
        }
      ]
    },
    {
      "cell_type": "code",
      "source": [
        "\n",
        "import numpy as np1\n",
        "x = [i for i in np1.arange(0.0,T,0.1)]\n",
        "\n",
        "import numpy as np2\n",
        "y = []\n",
        "for k in np2.arange(0.0,T+0.3,0.1):\n",
        "  if 0<k<T0:\n",
        "    B1=S0+(S-S0+1)*(k/T0)\n",
        "    y.append(B1)\n",
        "  if T0<k<Ts:\n",
        "    B1=S+1\n",
        "    y.append(B1)\n",
        "  if k>Ts:\n",
        "    B1=(S+1)*(Ts/k)\n",
        "    y.append(B1)\n",
        "title_ = \"ground_type: \" + str(ground_type) + \" & \" + khatar\n",
        "import matplotlib.pyplot as plt\n",
        "plt.plot(x, y, color='b', linestyle='-', linewidth=2, label=\"test\") #, marker='o', markersize=8\n",
        "plt.xlabel('T(sec)')\n",
        "plt.ylabel('B1')\n",
        "plt.title(title_)\n",
        "plt.grid(True)\n",
        "plt.show()"
      ],
      "metadata": {
        "id": "R39y4_HwcE65",
        "colab": {
          "base_uri": "https://localhost:8080/",
          "height": 472
        },
        "outputId": "58f0a2dd-5c48-4fa7-edfd-fc1a6a4e2c04"
      },
      "execution_count": 28,
      "outputs": [
        {
          "output_type": "display_data",
          "data": {
            "text/plain": [
              "<Figure size 640x480 with 1 Axes>"
            ],
            "image/png": "[encoded data removed]"
          },
          "metadata": {}
        }
      ]
    }
  ]
}